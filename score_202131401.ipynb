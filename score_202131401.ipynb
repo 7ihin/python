{
 "cells": [
  {
   "cell_type": "code",
   "execution_count": null,
   "metadata": {},
   "outputs": [],
   "source": [
    "def Score():\n",
    "    \n",
    "   num = int(input(\"[ 성적산출 프로그램 ]\\n\\n과제개수: \")) \n",
    "   box = 0\n",
    "   \n",
    "   for area in range(1, num+1):\n",
    "       a = float(input(\"%d 번째 과제점수: \"%(area)))\n",
    "       box += a\n",
    "       \n",
    "   exam_m = int(input(\"중간고사 점수: \"))\n",
    "   exam_f = int(input(\"기말고사 점수: \"))\n",
    "   \n",
    "   n = a * 0.4\n",
    "   m = exam_m * 0.3\n",
    "   f = exam_f * 0.3\n",
    "   \n",
    "   total = n + m + f\n",
    "   if  100 >= total >= 90:\n",
    "       grade = \"A\"\n",
    "   elif 90 >= total >= 80:\n",
    "        grade = \"B\"\n",
    "   elif 80 >= total >= 70:\n",
    "        grade = \"C\"\n",
    "   elif 70 >= total >= 60:\n",
    "        grade = \"D\"\n",
    "   elif total < 60:\n",
    "        grade = \"F\"\n",
    "    \n",
    "   print(\"\\n과제점수 = %.2f ( 반영비율 0.4 )\"%n)\n",
    "   print(\"중간점수 = %.2f ( 반영비율 0.3 )\"%m)\n",
    "   print(\"기말점수 = %.2f ( 반영비율 0.3 )\"%f)\n",
    "   print(\"합계 = %.2f\"%(n+m+f))\n",
    "   print(\"등급 = %s\"%grade)\n",
    "\n",
    "Score()"
   ]
  },
  {
   "cell_type": "code",
   "execution_count": null,
   "metadata": {},
   "outputs": [],
   "source": []
  }
 ],
 "metadata": {
  "kernelspec": {
   "display_name": "Python 3",
   "language": "python",
   "name": "python3"
  },
  "language_info": {
   "codemirror_mode": {
    "name": "ipython",
    "version": 3
   },
   "file_extension": ".py",
   "mimetype": "text/x-python",
   "name": "python",
   "nbconvert_exporter": "python",
   "pygments_lexer": "ipython3",
   "version": "3.8.5"
  }
 },
 "nbformat": 4,
 "nbformat_minor": 4
}
